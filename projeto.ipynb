{
 "cells": [
  {
   "cell_type": "markdown",
   "id": "a3efbb57",
   "metadata": {},
   "source": [
    "# Análise de Dados com Python\n",
    "Analisando o histórico de suicídios no Brasil, ocorridos de 2014 a 2018.\n",
    "\n",
    "**Nosso roteiro:**\n",
    "\n",
    "1. Configuração do ambiente virtual\n",
    "2. Carregamento dos dados\n",
    "3. Exploração inicial\n",
    "4. Limpeza e preparação\n",
    "5. Análise e visualização"
   ]
  },
  {
   "cell_type": "markdown",
   "id": "5bc9bc37",
   "metadata": {},
   "source": [
    "# Passo 1: Configuração do ambiente"
   ]
  },
  {
   "cell_type": "code",
   "execution_count": 1,
   "id": "c9a0608c",
   "metadata": {},
   "outputs": [
    {
     "name": "stderr",
     "output_type": "stream",
     "text": [
      "\n",
      "[notice] A new release of pip is available: 24.2 -> 25.1.1\n",
      "[notice] To update, run: python.exe -m pip install --upgrade pip\n"
     ]
    }
   ],
   "source": [
    "# Instalação das bibliotecas\n",
    "# - pandas: para manipulação e análise de dados em formato de tabela\n",
    "# - matplotlib: para criação de gráficos\n",
    "# - seaborn: biblioteca de gráficos baseada na matplotlib\n",
    "\n",
    "!pip install -q pandas matplotlib seaborn"
   ]
  },
  {
   "cell_type": "code",
   "execution_count": 2,
   "id": "63c12ef8",
   "metadata": {},
   "outputs": [
    {
     "name": "stdout",
     "output_type": "stream",
     "text": [
      "Bibliotecas importadas com sucesso!\n"
     ]
    }
   ],
   "source": [
    "#Usamos apelidos (como 'pd' para pandas) para facilitar o uso das bibliotecas\n",
    "# e evitar conflitos de nomes.\n",
    "\n",
    "import pandas as pd\n",
    "import matplotlib.pyplot as plt\n",
    "import seaborn as sns\n",
    "import warnings\n",
    "warnings.filterwarnings(\"ignore\")\n",
    "\n",
    "sns.set_theme(style=\"whitegrid\")\n",
    "print(\"Bibliotecas importadas com sucesso!\")"
   ]
  },
  {
   "cell_type": "markdown",
   "id": "c573fb94",
   "metadata": {},
   "source": [
    "# Passo 2: Carregamento dos Dados"
   ]
  },
  {
   "cell_type": "code",
   "execution_count": 25,
   "id": "19a22acb",
   "metadata": {},
   "outputs": [
    {
     "name": "stdout",
     "output_type": "stream",
     "text": [
      "Dados carregados com sucesso!\n"
     ]
    }
   ],
   "source": [
    "df = pd.read_csv(\"datasus_suicidio_2014_2018.csv\", sep= ',', encoding='latin1')\n",
    "print (\"Dados carregados com sucesso!\")"
   ]
  },
  {
   "cell_type": "markdown",
   "id": "9b2d5fd7",
   "metadata": {},
   "source": [
    "# Passo 3: Exploração Inicial (Análise Exploratória de Dados - EDA)\n",
    "\n",
    "Queremos entender:\n",
    "* Qual é o formato? (linhas e colunas)\n",
    "* Quais são as colunas disponíveis?\n",
    "* Que tipo de dado cada coluna armazena? (texto, número, data)\n",
    "* Existem dados faltando?\n",
    "* Quais as estatísticas básicas dos dados numéricos e categóricos?"
   ]
  },
  {
   "cell_type": "code",
   "execution_count": 26,
   "id": "5a0bd761",
   "metadata": {},
   "outputs": [
    {
     "data": {
      "text/html": [
       "<div>\n",
       "<style scoped>\n",
       "    .dataframe tbody tr th:only-of-type {\n",
       "        vertical-align: middle;\n",
       "    }\n",
       "\n",
       "    .dataframe tbody tr th {\n",
       "        vertical-align: top;\n",
       "    }\n",
       "\n",
       "    .dataframe thead th {\n",
       "        text-align: right;\n",
       "    }\n",
       "</style>\n",
       "<table border=\"1\" class=\"dataframe\">\n",
       "  <thead>\n",
       "    <tr style=\"text-align: right;\">\n",
       "      <th></th>\n",
       "      <th>estado</th>\n",
       "      <th>ano</th>\n",
       "      <th>CIRCOBITO</th>\n",
       "      <th>DTOBITO</th>\n",
       "      <th>DTNASC</th>\n",
       "      <th>SEXO</th>\n",
       "      <th>RACACOR</th>\n",
       "      <th>ESTCIV</th>\n",
       "      <th>ESC</th>\n",
       "      <th>OCUP</th>\n",
       "      <th>CODMUNRES</th>\n",
       "      <th>LOCOCOR</th>\n",
       "      <th>ASSISTMED</th>\n",
       "      <th>CAUSABAS</th>\n",
       "      <th>CAUSABAS_O</th>\n",
       "      <th>idade</th>\n",
       "      <th>mes</th>\n",
       "    </tr>\n",
       "  </thead>\n",
       "  <tbody>\n",
       "    <tr>\n",
       "      <th>0</th>\n",
       "      <td>AC</td>\n",
       "      <td>2014</td>\n",
       "      <td>Suicídio</td>\n",
       "      <td>02-01-14</td>\n",
       "      <td>02-07-77</td>\n",
       "      <td>Masculino</td>\n",
       "      <td>Preta</td>\n",
       "      <td>Casado</td>\n",
       "      <td>4 a 7 anos</td>\n",
       "      <td>ATLETA PROFISSIONAL DE FUTEBOL</td>\n",
       "      <td>Rio Branco</td>\n",
       "      <td>Domicílio</td>\n",
       "      <td>Não</td>\n",
       "      <td>X700</td>\n",
       "      <td>X700</td>\n",
       "      <td>37.0</td>\n",
       "      <td>1</td>\n",
       "    </tr>\n",
       "    <tr>\n",
       "      <th>1</th>\n",
       "      <td>AC</td>\n",
       "      <td>2014</td>\n",
       "      <td>Suicídio</td>\n",
       "      <td>23-01-14</td>\n",
       "      <td>30-07-66</td>\n",
       "      <td>Masculino</td>\n",
       "      <td>Branca</td>\n",
       "      <td>União consensual</td>\n",
       "      <td>12 e mais</td>\n",
       "      <td>MEDICO GINECOLOGISTA E OBSTETRA</td>\n",
       "      <td>Rio Branco</td>\n",
       "      <td>Domicílio</td>\n",
       "      <td>Não</td>\n",
       "      <td>X800</td>\n",
       "      <td>X800</td>\n",
       "      <td>48.0</td>\n",
       "      <td>1</td>\n",
       "    </tr>\n",
       "    <tr>\n",
       "      <th>2</th>\n",
       "      <td>AC</td>\n",
       "      <td>2014</td>\n",
       "      <td>Suicídio</td>\n",
       "      <td>31-01-14</td>\n",
       "      <td>28-07-43</td>\n",
       "      <td>Masculino</td>\n",
       "      <td>Branca</td>\n",
       "      <td>NaN</td>\n",
       "      <td>NaN</td>\n",
       "      <td>0</td>\n",
       "      <td>Rio Branco</td>\n",
       "      <td>Domicílio</td>\n",
       "      <td>Não</td>\n",
       "      <td>X700</td>\n",
       "      <td>X700</td>\n",
       "      <td>71.0</td>\n",
       "      <td>1</td>\n",
       "    </tr>\n",
       "  </tbody>\n",
       "</table>\n",
       "</div>"
      ],
      "text/plain": [
       "  estado   ano CIRCOBITO   DTOBITO    DTNASC       SEXO RACACOR  \\\n",
       "0     AC  2014  Suicídio  02-01-14  02-07-77  Masculino   Preta   \n",
       "1     AC  2014  Suicídio  23-01-14  30-07-66  Masculino  Branca   \n",
       "2     AC  2014  Suicídio  31-01-14  28-07-43  Masculino  Branca   \n",
       "\n",
       "             ESTCIV         ESC                             OCUP   CODMUNRES  \\\n",
       "0            Casado  4 a 7 anos   ATLETA PROFISSIONAL DE FUTEBOL  Rio Branco   \n",
       "1  União consensual   12 e mais  MEDICO GINECOLOGISTA E OBSTETRA  Rio Branco   \n",
       "2               NaN         NaN                                0  Rio Branco   \n",
       "\n",
       "     LOCOCOR ASSISTMED CAUSABAS CAUSABAS_O  idade  mes  \n",
       "0  Domicílio       Não     X700       X700   37.0    1  \n",
       "1  Domicílio       Não     X800       X800   48.0    1  \n",
       "2  Domicílio       Não     X700       X700   71.0    1  "
      ]
     },
     "execution_count": 26,
     "metadata": {},
     "output_type": "execute_result"
    }
   ],
   "source": [
    "# O método .head() mostra as primeiras linhas do DataFrame\n",
    "df.head(3)"
   ]
  },
  {
   "cell_type": "code",
   "execution_count": 27,
   "id": "d05c12ee",
   "metadata": {},
   "outputs": [
    {
     "name": "stdout",
     "output_type": "stream",
     "text": [
      "Dimensões do DataFrame (linhas e colunas)\n",
      "(58634, 17)\n",
      "\n",
      "==================================================\n",
      "\n",
      "Informações Gerais e Tipos de Dados:\n",
      "<class 'pandas.core.frame.DataFrame'>\n",
      "RangeIndex: 58634 entries, 0 to 58633\n",
      "Data columns (total 17 columns):\n",
      " #   Column      Non-Null Count  Dtype  \n",
      "---  ------      --------------  -----  \n",
      " 0   estado      58634 non-null  object \n",
      " 1   ano         58634 non-null  int64  \n",
      " 2   CIRCOBITO   56606 non-null  object \n",
      " 3   DTOBITO     58634 non-null  object \n",
      " 4   DTNASC      58407 non-null  object \n",
      " 5   SEXO        58619 non-null  object \n",
      " 6   RACACOR     57298 non-null  object \n",
      " 7   ESTCIV      54305 non-null  object \n",
      " 8   ESC         45162 non-null  object \n",
      " 9   OCUP        58634 non-null  object \n",
      " 10  CODMUNRES   58634 non-null  object \n",
      " 11  LOCOCOR     58463 non-null  object \n",
      " 12  ASSISTMED   40872 non-null  object \n",
      " 13  CAUSABAS    58634 non-null  object \n",
      " 14  CAUSABAS_O  58544 non-null  object \n",
      " 15  idade       58407 non-null  float64\n",
      " 16  mes         58634 non-null  int64  \n",
      "dtypes: float64(1), int64(2), object(14)\n",
      "memory usage: 7.6+ MB\n"
     ]
    }
   ],
   "source": [
    "print(\"Dimensões do DataFrame (linhas e colunas)\")\n",
    "print(df.shape)\n",
    "\n",
    "# O método .info() é um jeito rápido de ver informações gerais sobre o DataFrame:\n",
    "print(\"\\n\" + \"=\"*50 + \"\\n\")\n",
    "print(\"Informações Gerais e Tipos de Dados:\")\n",
    "df.info()"
   ]
  },
  {
   "cell_type": "code",
   "execution_count": 28,
   "id": "736d7f32",
   "metadata": {},
   "outputs": [
    {
     "name": "stdout",
     "output_type": "stream",
     "text": [
      "Contagem de valores ausentes por coluna:\n"
     ]
    },
    {
     "data": {
      "text/plain": [
       "estado            0\n",
       "ano               0\n",
       "CIRCOBITO      2028\n",
       "DTOBITO           0\n",
       "DTNASC          227\n",
       "SEXO             15\n",
       "RACACOR        1336\n",
       "ESTCIV         4329\n",
       "ESC           13472\n",
       "OCUP              0\n",
       "CODMUNRES         0\n",
       "LOCOCOR         171\n",
       "ASSISTMED     17762\n",
       "CAUSABAS          0\n",
       "CAUSABAS_O       90\n",
       "idade           227\n",
       "mes               0\n",
       "dtype: int64"
      ]
     },
     "execution_count": 28,
     "metadata": {},
     "output_type": "execute_result"
    }
   ],
   "source": [
    "print(\"Contagem de valores ausentes por coluna:\")\n",
    "df.isnull().sum()"
   ]
  },
  {
   "cell_type": "code",
   "execution_count": 29,
   "id": "06b0efe5",
   "metadata": {},
   "outputs": [
    {
     "name": "stdout",
     "output_type": "stream",
     "text": [
      "Estatísticas descritivas dos dados numéricos:\n"
     ]
    },
    {
     "data": {
      "text/html": [
       "<div>\n",
       "<style scoped>\n",
       "    .dataframe tbody tr th:only-of-type {\n",
       "        vertical-align: middle;\n",
       "    }\n",
       "\n",
       "    .dataframe tbody tr th {\n",
       "        vertical-align: top;\n",
       "    }\n",
       "\n",
       "    .dataframe thead th {\n",
       "        text-align: right;\n",
       "    }\n",
       "</style>\n",
       "<table border=\"1\" class=\"dataframe\">\n",
       "  <thead>\n",
       "    <tr style=\"text-align: right;\">\n",
       "      <th></th>\n",
       "      <th>ano</th>\n",
       "      <th>idade</th>\n",
       "      <th>mes</th>\n",
       "    </tr>\n",
       "  </thead>\n",
       "  <tbody>\n",
       "    <tr>\n",
       "      <th>count</th>\n",
       "      <td>58634.000000</td>\n",
       "      <td>58407.000000</td>\n",
       "      <td>58634.000000</td>\n",
       "    </tr>\n",
       "    <tr>\n",
       "      <th>mean</th>\n",
       "      <td>2016.093325</td>\n",
       "      <td>42.543308</td>\n",
       "      <td>6.585496</td>\n",
       "    </tr>\n",
       "    <tr>\n",
       "      <th>std</th>\n",
       "      <td>1.412665</td>\n",
       "      <td>17.378526</td>\n",
       "      <td>3.502479</td>\n",
       "    </tr>\n",
       "    <tr>\n",
       "      <th>min</th>\n",
       "      <td>2014.000000</td>\n",
       "      <td>0.000000</td>\n",
       "      <td>1.000000</td>\n",
       "    </tr>\n",
       "    <tr>\n",
       "      <th>25%</th>\n",
       "      <td>2015.000000</td>\n",
       "      <td>29.000000</td>\n",
       "      <td>3.000000</td>\n",
       "    </tr>\n",
       "    <tr>\n",
       "      <th>50%</th>\n",
       "      <td>2016.000000</td>\n",
       "      <td>40.000000</td>\n",
       "      <td>7.000000</td>\n",
       "    </tr>\n",
       "    <tr>\n",
       "      <th>75%</th>\n",
       "      <td>2017.000000</td>\n",
       "      <td>54.000000</td>\n",
       "      <td>10.000000</td>\n",
       "    </tr>\n",
       "    <tr>\n",
       "      <th>max</th>\n",
       "      <td>2018.000000</td>\n",
       "      <td>113.000000</td>\n",
       "      <td>12.000000</td>\n",
       "    </tr>\n",
       "  </tbody>\n",
       "</table>\n",
       "</div>"
      ],
      "text/plain": [
       "                ano         idade           mes\n",
       "count  58634.000000  58407.000000  58634.000000\n",
       "mean    2016.093325     42.543308      6.585496\n",
       "std        1.412665     17.378526      3.502479\n",
       "min     2014.000000      0.000000      1.000000\n",
       "25%     2015.000000     29.000000      3.000000\n",
       "50%     2016.000000     40.000000      7.000000\n",
       "75%     2017.000000     54.000000     10.000000\n",
       "max     2018.000000    113.000000     12.000000"
      ]
     },
     "execution_count": 29,
     "metadata": {},
     "output_type": "execute_result"
    }
   ],
   "source": [
    "print(\"Estatísticas descritivas dos dados numéricos:\")\n",
    "df.describe()"
   ]
  },
  {
   "cell_type": "code",
   "execution_count": 30,
   "id": "aa46344e",
   "metadata": {},
   "outputs": [
    {
     "name": "stdout",
     "output_type": "stream",
     "text": [
      "Estatísticas descritivas dos dados categóricos:\n"
     ]
    },
    {
     "data": {
      "text/html": [
       "<div>\n",
       "<style scoped>\n",
       "    .dataframe tbody tr th:only-of-type {\n",
       "        vertical-align: middle;\n",
       "    }\n",
       "\n",
       "    .dataframe tbody tr th {\n",
       "        vertical-align: top;\n",
       "    }\n",
       "\n",
       "    .dataframe thead th {\n",
       "        text-align: right;\n",
       "    }\n",
       "</style>\n",
       "<table border=\"1\" class=\"dataframe\">\n",
       "  <thead>\n",
       "    <tr style=\"text-align: right;\">\n",
       "      <th></th>\n",
       "      <th>estado</th>\n",
       "      <th>CIRCOBITO</th>\n",
       "      <th>DTOBITO</th>\n",
       "      <th>DTNASC</th>\n",
       "      <th>SEXO</th>\n",
       "      <th>RACACOR</th>\n",
       "      <th>ESTCIV</th>\n",
       "      <th>ESC</th>\n",
       "      <th>OCUP</th>\n",
       "      <th>CODMUNRES</th>\n",
       "      <th>LOCOCOR</th>\n",
       "      <th>ASSISTMED</th>\n",
       "      <th>CAUSABAS</th>\n",
       "      <th>CAUSABAS_O</th>\n",
       "    </tr>\n",
       "  </thead>\n",
       "  <tbody>\n",
       "    <tr>\n",
       "      <th>count</th>\n",
       "      <td>58634</td>\n",
       "      <td>56606</td>\n",
       "      <td>58634</td>\n",
       "      <td>58407</td>\n",
       "      <td>58619</td>\n",
       "      <td>57298</td>\n",
       "      <td>54305</td>\n",
       "      <td>45162</td>\n",
       "      <td>58634</td>\n",
       "      <td>58634</td>\n",
       "      <td>58463</td>\n",
       "      <td>40872</td>\n",
       "      <td>58634</td>\n",
       "      <td>58544</td>\n",
       "    </tr>\n",
       "    <tr>\n",
       "      <th>unique</th>\n",
       "      <td>27</td>\n",
       "      <td>4</td>\n",
       "      <td>1826</td>\n",
       "      <td>22200</td>\n",
       "      <td>2</td>\n",
       "      <td>5</td>\n",
       "      <td>5</td>\n",
       "      <td>5</td>\n",
       "      <td>1108</td>\n",
       "      <td>4769</td>\n",
       "      <td>6</td>\n",
       "      <td>2</td>\n",
       "      <td>301</td>\n",
       "      <td>527</td>\n",
       "    </tr>\n",
       "    <tr>\n",
       "      <th>top</th>\n",
       "      <td>SP</td>\n",
       "      <td>Suicídio</td>\n",
       "      <td>01-01-17</td>\n",
       "      <td>15-06-81</td>\n",
       "      <td>Masculino</td>\n",
       "      <td>Branca</td>\n",
       "      <td>Solteiro</td>\n",
       "      <td>8 a 11 anos</td>\n",
       "      <td>0</td>\n",
       "      <td>São Paulo</td>\n",
       "      <td>Domicílio</td>\n",
       "      <td>Não</td>\n",
       "      <td>X700</td>\n",
       "      <td>X700</td>\n",
       "    </tr>\n",
       "    <tr>\n",
       "      <th>freq</th>\n",
       "      <td>11256</td>\n",
       "      <td>55484</td>\n",
       "      <td>64</td>\n",
       "      <td>12</td>\n",
       "      <td>46169</td>\n",
       "      <td>29193</td>\n",
       "      <td>29408</td>\n",
       "      <td>14503</td>\n",
       "      <td>12353</td>\n",
       "      <td>2090</td>\n",
       "      <td>36070</td>\n",
       "      <td>32629</td>\n",
       "      <td>28997</td>\n",
       "      <td>26666</td>\n",
       "    </tr>\n",
       "  </tbody>\n",
       "</table>\n",
       "</div>"
      ],
      "text/plain": [
       "       estado CIRCOBITO   DTOBITO    DTNASC       SEXO RACACOR    ESTCIV  \\\n",
       "count   58634     56606     58634     58407      58619   57298     54305   \n",
       "unique     27         4      1826     22200          2       5         5   \n",
       "top        SP  Suicídio  01-01-17  15-06-81  Masculino  Branca  Solteiro   \n",
       "freq    11256     55484        64        12      46169   29193     29408   \n",
       "\n",
       "                ESC   OCUP  CODMUNRES    LOCOCOR ASSISTMED CAUSABAS CAUSABAS_O  \n",
       "count         45162  58634      58634      58463     40872    58634      58544  \n",
       "unique            5   1108       4769          6         2      301        527  \n",
       "top     8 a 11 anos      0  São Paulo  Domicílio       Não     X700       X700  \n",
       "freq          14503  12353       2090      36070     32629    28997      26666  "
      ]
     },
     "execution_count": 30,
     "metadata": {},
     "output_type": "execute_result"
    }
   ],
   "source": [
    "print(\"Estatísticas descritivas dos dados categóricos:\")\n",
    "df.describe(include='object')"
   ]
  },
  {
   "cell_type": "markdown",
   "id": "21464ed7",
   "metadata": {},
   "source": [
    "# Passo 4: Limpeza e Preparação dos Dados"
   ]
  },
  {
   "cell_type": "code",
   "execution_count": 31,
   "id": "f9cb03a6",
   "metadata": {},
   "outputs": [
    {
     "name": "stdout",
     "output_type": "stream",
     "text": [
      "Contagem de valores únicos na coluna 'ESTCIV': \n"
     ]
    },
    {
     "data": {
      "text/plain": [
       "ESTCIV\n",
       "Solteiro                  29408\n",
       "Casado                    15435\n",
       "Separado judicialmente     4146\n",
       "União consensual           3144\n",
       "Viúvo                      2172\n",
       "Name: count, dtype: int64"
      ]
     },
     "execution_count": 31,
     "metadata": {},
     "output_type": "execute_result"
    }
   ],
   "source": [
    "# Verifica a contagem de valores únicos na coluna 'ESTCIV'\n",
    "\n",
    "print(\"Contagem de valores únicos na coluna 'ESTCIV': \")\n",
    "\n",
    "df['ESTCIV'].value_counts()\n",
    "\n",
    "#df['ESTCIV'].unique()"
   ]
  },
  {
   "cell_type": "code",
   "execution_count": 32,
   "id": "c96415ae",
   "metadata": {},
   "outputs": [
    {
     "data": {
      "text/plain": [
       "ESTCIV\n",
       "Solteiro                  29408\n",
       "Casado                    15435\n",
       "Não informado              4329\n",
       "Separado judicialmente     4146\n",
       "União consensual           3144\n",
       "Viúvo                      2172\n",
       "Name: count, dtype: int64"
      ]
     },
     "execution_count": 32,
     "metadata": {},
     "output_type": "execute_result"
    }
   ],
   "source": [
    "#Substituindo valores ausentes na coluna 'ESTCIV' por 'Não informado'\n",
    "\n",
    "df['ESTCIV'].fillna('Não informado', inplace= True)\n",
    "df['ESTCIV'].value_counts()"
   ]
  },
  {
   "cell_type": "code",
   "execution_count": 33,
   "id": "5d2e21d4",
   "metadata": {},
   "outputs": [
    {
     "data": {
      "text/plain": [
       "SEXO\n",
       "Masculino        46169\n",
       "Feminino         12450\n",
       "Não informado       15\n",
       "Name: count, dtype: int64"
      ]
     },
     "execution_count": 33,
     "metadata": {},
     "output_type": "execute_result"
    }
   ],
   "source": [
    "#Substituindo valores ausentes na coluna 'SEXO' por 'Não informado'\n",
    "\n",
    "df['SEXO'].fillna('Não informado', inplace= True)\n",
    "df['SEXO'].value_counts()"
   ]
  },
  {
   "cell_type": "code",
   "execution_count": 34,
   "id": "049054cc",
   "metadata": {},
   "outputs": [
    {
     "data": {
      "text/plain": [
       "ESC\n",
       "8 a 11 anos      14503\n",
       "4 a 7 anos       14454\n",
       "Não informado    13472\n",
       "1 a 3 anos        8042\n",
       "12 e mais         5501\n",
       "Nenhuma           2662\n",
       "Name: count, dtype: int64"
      ]
     },
     "execution_count": 34,
     "metadata": {},
     "output_type": "execute_result"
    }
   ],
   "source": [
    "#Substituindo valores ausentes na coluna 'ESC' por 'Não informado'\n",
    "\n",
    "df['ESC'].fillna('Não informado', inplace= True)\n",
    "df['ESC'].value_counts()"
   ]
  },
  {
   "cell_type": "code",
   "execution_count": 35,
   "id": "d08caeb2",
   "metadata": {},
   "outputs": [],
   "source": [
    "#Transformando coluna 'DTOBITO' em datatime\n",
    "\n",
    "df['DTOBITO'] = pd.to_datetime(df['DTOBITO'], format='%d-%m-%y', errors='coerce')\n"
   ]
  },
  {
   "cell_type": "code",
   "execution_count": 36,
   "id": "5d6bb04b",
   "metadata": {},
   "outputs": [],
   "source": [
    "#Transformando coluna 'DTNASC' em datatime\n",
    "\n",
    "df['DTNASC'] = pd.to_datetime(df['DTNASC'], format='%d-%m-%y', errors='coerce')"
   ]
  },
  {
   "cell_type": "code",
   "execution_count": 37,
   "id": "2dd35e2b",
   "metadata": {},
   "outputs": [
    {
     "name": "stdout",
     "output_type": "stream",
     "text": [
      "Tipos de dados após o tratamento:\n",
      "<class 'pandas.core.frame.DataFrame'>\n",
      "RangeIndex: 58634 entries, 0 to 58633\n",
      "Data columns (total 17 columns):\n",
      " #   Column      Non-Null Count  Dtype         \n",
      "---  ------      --------------  -----         \n",
      " 0   estado      58634 non-null  object        \n",
      " 1   ano         58634 non-null  int64         \n",
      " 2   CIRCOBITO   56606 non-null  object        \n",
      " 3   DTOBITO     58634 non-null  datetime64[ns]\n",
      " 4   DTNASC      58407 non-null  datetime64[ns]\n",
      " 5   SEXO        58634 non-null  object        \n",
      " 6   RACACOR     57298 non-null  object        \n",
      " 7   ESTCIV      58634 non-null  object        \n",
      " 8   ESC         58634 non-null  object        \n",
      " 9   OCUP        58634 non-null  object        \n",
      " 10  CODMUNRES   58634 non-null  object        \n",
      " 11  LOCOCOR     58463 non-null  object        \n",
      " 12  ASSISTMED   40872 non-null  object        \n",
      " 13  CAUSABAS    58634 non-null  object        \n",
      " 14  CAUSABAS_O  58544 non-null  object        \n",
      " 15  idade       58407 non-null  float64       \n",
      " 16  mes         58634 non-null  int64         \n",
      "dtypes: datetime64[ns](2), float64(1), int64(2), object(12)\n",
      "memory usage: 7.6+ MB\n"
     ]
    }
   ],
   "source": [
    "print(\"Tipos de dados após o tratamento:\")\n",
    "df.info()"
   ]
  },
  {
   "cell_type": "markdown",
   "id": "a11ea861",
   "metadata": {},
   "source": [
    "# Passo 5: Análise e Visualização de Dados\n",
    "\n",
    "Com os dados limpos e preparados, vamos explorar as distribuições de algumas variáveis importantes."
   ]
  },
  {
   "cell_type": "code",
   "execution_count": 45,
   "id": "0fd66890",
   "metadata": {},
   "outputs": [
    {
     "data": {
      "image/png": "[encoded data removed]",
      "text/plain": [
       "<Figure size 600x400 with 1 Axes>"
      ]
     },
     "metadata": {},
     "output_type": "display_data"
    }
   ],
   "source": [
    "#gráfico de contagem de valores do atributo SEXO.\n",
    "\n",
    "#definir o tamanho da figura\n",
    "plt.figure(figsize=(6,4))\n",
    "\n",
    "#criar o gráfico de contagem\n",
    "sns.countplot(data=df, x='SEXO', order=df['SEXO'].value_counts().index)\n",
    "\n",
    "#Adiciona um título\n",
    "plt.title(\"Distribuição de Sexo dos Suicídios\")\n",
    "plt.xlabel(\"Sexo\")\n",
    "plt.ylabel(\"Contagem\")\n",
    "\n",
    "plt.show()"
   ]
  },
  {
   "cell_type": "code",
   "execution_count": 48,
   "id": "f2c0541e",
   "metadata": {},
   "outputs": [
    {
     "data": {
      "image/png": "[encoded data removed]",
      "text/plain": [
       "<Figure size 600x400 with 1 Axes>"
      ]
     },
     "metadata": {},
     "output_type": "display_data"
    }
   ],
   "source": [
    "#gráfico de contagem de valores do atributo Raça/cor.\n",
    "\n",
    "#definir o tamanho da figura\n",
    "plt.figure(figsize=(6,4))\n",
    "\n",
    "#criar o gráfico de contagem\n",
    "sns.countplot(data=df, y='RACACOR', order=df['RACACOR'].value_counts().index, palette='plasma')\n",
    "for label in df ['RACACOR'].value_counts().index:\n",
    "    count = df['RACACOR'].value_counts()[label]\n",
    "    plt.text(count+0.5, label, str(count), va='center', fontsize=10)\n",
    "\n",
    "#Adiciona um título\n",
    "plt.title(\"Distribuição dos Óbitos por Raça/Cor\")\n",
    "plt.xlabel(\"Contagem\")\n",
    "plt.ylabel(\"Raça/Cor\")\n",
    "\n",
    "plt.show()"
   ]
  },
  {
   "cell_type": "code",
   "execution_count": 50,
   "id": "36fe62ab",
   "metadata": {},
   "outputs": [
    {
     "data": {
      "image/png": "[encoded data removed]",
      "text/plain": [
       "<Figure size 600x400 with 1 Axes>"
      ]
     },
     "metadata": {},
     "output_type": "display_data"
    }
   ],
   "source": [
    "#gráfico de contagem de valores do atributo Idade.\n",
    "\n",
    "#definir o tamanho da figura\n",
    "plt.figure(figsize=(6,4))\n",
    "\n",
    "#criar o gráfico de contagem\n",
    "sns.histplot(data=df, x='idade',bins=15, kde=True, color='darkblue')\n",
    "\n",
    "#Adiciona um título\n",
    "plt.title(\"Distribuição dos Óbitos por Idade\")\n",
    "plt.xlabel(\"Idade\")\n",
    "plt.ylabel(\"Frequência\")\n",
    "\n",
    "plt.show()"
   ]
  },
  {
   "cell_type": "code",
   "execution_count": 54,
   "id": "c613aefb",
   "metadata": {},
   "outputs": [
    {
     "data": {
      "image/png": "[encoded data removed]",
      "text/plain": [
       "<Figure size 600x400 with 1 Axes>"
      ]
     },
     "metadata": {},
     "output_type": "display_data"
    }
   ],
   "source": [
    "#gráfico de contagem de valores do atributo Idade e Sexo.\n",
    "\n",
    "#definir o tamanho da figura\n",
    "plt.figure(figsize=(6,4))\n",
    "\n",
    "#criar o gráfico de contagem\n",
    "sns.boxplot(data=df, x='SEXO',y='idade',palette='plasma')\n",
    "\n",
    "#Adiciona um título\n",
    "plt.title(\"Distribuição dos Óbitos por Idade e Sexo\")\n",
    "plt.xlabel(\"Sexo\")\n",
    "plt.ylabel(\"Frequência\")\n",
    "\n",
    "plt.show()"
   ]
  }
 ],
 "metadata": {
  "kernelspec": {
   "display_name": "datasus-venv",
   "language": "python",
   "name": "python3"
  },
  "language_info": {
   "codemirror_mode": {
    "name": "ipython",
    "version": 3
   },
   "file_extension": ".py",
   "mimetype": "text/x-python",
   "name": "python",
   "nbconvert_exporter": "python",
   "pygments_lexer": "ipython3",
   "version": "3.12.7"
  }
 },
 "nbformat": 4,
 "nbformat_minor": 5
}
